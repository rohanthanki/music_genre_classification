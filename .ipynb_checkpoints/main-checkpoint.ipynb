{
 "cells": [
  {
   "cell_type": "code",
   "execution_count": 29,
   "id": "c94f254d-e8fb-4c3a-a9ce-3a6defe1cd06",
   "metadata": {},
   "outputs": [],
   "source": [
    "# basic stuff\n",
    "import numpy as np\n",
    "import pandas as pd\n",
    "\n",
    "# other sklearn libraries\n",
    "from sklearn.preprocessing import StandardScaler, LabelEncoder\n",
    "from sklearn.model_selection import train_test_split\n",
    "from sklearn.impute import SimpleImputer\n",
    "from sklearn.metrics import *\n",
    "\n",
    "# models\n",
    "from sklearn.linear_model import LogisticRegression\n",
    "from sklearn.discriminant_analysis import LinearDiscriminantAnalysis, QuadraticDiscriminantAnalysis\n",
    "from sklearn.naive_bayes import GaussianNB\n",
    "from sklearn.svm import SVC\n",
    "from sklearn.neighbors import KNeighborsClassifier\n",
    "from sklearn.mixture import GaussianMixture"
   ]
  },
  {
   "cell_type": "markdown",
   "id": "211364df-b95d-4b25-9e27-896b969a0ed7",
   "metadata": {},
   "source": [
    "# Data"
   ]
  },
  {
   "cell_type": "markdown",
   "id": "4ca014fa-6d69-44e2-8804-df1c9e0bfa64",
   "metadata": {},
   "source": [
    "## Loading Data"
   ]
  },
  {
   "cell_type": "code",
   "execution_count": 2,
   "id": "f857fab4-896c-4f51-a266-25dd99dbab69",
   "metadata": {},
   "outputs": [],
   "source": [
    "data = pd.read_csv('data/train.csv')\n",
    "X = data.iloc[:, 2:15].to_numpy()\n",
    "y = data.iloc[:, 16].to_numpy()"
   ]
  },
  {
   "cell_type": "markdown",
   "id": "3373bdb9-960d-4584-9f7f-ec28f8707829",
   "metadata": {},
   "source": [
    "# Preprocessing Data"
   ]
  },
  {
   "cell_type": "code",
   "execution_count": 23,
   "id": "af6701ae-dd33-498e-ab72-24cc9b2065d4",
   "metadata": {},
   "outputs": [],
   "source": [
    "# Splitting into train and test sets\n",
    "X_train, X_test, y_train, y_test = train_test_split(X, y, test_size=0.25, random_state=42)"
   ]
  },
  {
   "cell_type": "code",
   "execution_count": 31,
   "id": "87a6e232-505e-497b-9dcc-589b7cec6d0f",
   "metadata": {},
   "outputs": [],
   "source": [
    "# Filling in missing values\n",
    "imp_mean = SimpleImputer(missing_values=np.nan, strategy='mean')\n",
    "X_train = imp_mean.fit_transform(X_train)\n",
    "X_test = imp_mean.transform(X_test)"
   ]
  },
  {
   "cell_type": "code",
   "execution_count": 25,
   "id": "5e67318d-685e-426f-be26-97459fd5e416",
   "metadata": {},
   "outputs": [],
   "source": [
    "scaler = StandardScaler()\n",
    "X_train = scaler.fit_transform(X_train)\n",
    "X_test = scaler.transform(X_test)"
   ]
  },
  {
   "cell_type": "markdown",
   "id": "4aa3332e-06b5-4dcb-87ae-a8bc9994f139",
   "metadata": {},
   "source": [
    "# Training Models"
   ]
  },
  {
   "cell_type": "markdown",
   "id": "0ba8d42d-a3aa-4a87-af79-4d7fec471594",
   "metadata": {},
   "source": [
    "## Model 1 - Logistic Regression"
   ]
  },
  {
   "cell_type": "code",
   "execution_count": 28,
   "id": "d0c003dd-eca8-42c5-9b61-a43fec71a6cd",
   "metadata": {},
   "outputs": [],
   "source": [
    "clf = LogisticRegression(solver='newton-cg')\n",
    "clf_lr = clf.fit(X_train, y_train)"
   ]
  },
  {
   "cell_type": "code",
   "execution_count": 33,
   "id": "0f4c7591-54e5-4cbe-ac2d-afd9599c78b3",
   "metadata": {},
   "outputs": [
    {
     "data": {
      "text/plain": [
       "0.49144254278728605"
      ]
     },
     "execution_count": 33,
     "metadata": {},
     "output_type": "execute_result"
    }
   ],
   "source": [
    "y_test_pred = clf_lr.predict(X_test)\n",
    "accuracy_score(y_test, y_test_pred)"
   ]
  },
  {
   "cell_type": "markdown",
   "id": "33514e49-e8d8-4d62-92a4-89387e3ee8f6",
   "metadata": {},
   "source": [
    "## Model 2 - Linear Discriminant Analysis"
   ]
  },
  {
   "cell_type": "code",
   "execution_count": null,
   "id": "2d9cd8b5-7b29-4708-a4f3-495b60c16277",
   "metadata": {},
   "outputs": [],
   "source": []
  },
  {
   "cell_type": "markdown",
   "id": "b15e1da7-0a7d-46da-b95a-81b58ebb71ea",
   "metadata": {},
   "source": [
    "## Model 3 - Quadratic Discriminant Analysis"
   ]
  },
  {
   "cell_type": "code",
   "execution_count": null,
   "id": "ac2b40c9-5302-4445-ade4-a6c110864f38",
   "metadata": {},
   "outputs": [],
   "source": []
  },
  {
   "cell_type": "markdown",
   "id": "96a3af72-cc74-40d1-b097-3651d17d183d",
   "metadata": {},
   "source": [
    "## Model 4 - Naive Bayes"
   ]
  },
  {
   "cell_type": "code",
   "execution_count": null,
   "id": "9a639b63-137a-40fd-88f0-6481526bffb0",
   "metadata": {},
   "outputs": [],
   "source": []
  },
  {
   "cell_type": "markdown",
   "id": "74028aa2-7a83-4fa3-b6cf-c0f61280e101",
   "metadata": {},
   "source": [
    "## Model 5 - Support Vector Machine"
   ]
  },
  {
   "cell_type": "code",
   "execution_count": null,
   "id": "f1ea41e7-7fb6-4168-ad82-277836026d27",
   "metadata": {},
   "outputs": [],
   "source": []
  },
  {
   "cell_type": "markdown",
   "id": "d7eea805-520f-4a14-bdb3-87f0c0470977",
   "metadata": {},
   "source": [
    "## Model 6 - K Nearest Neighbors"
   ]
  },
  {
   "cell_type": "code",
   "execution_count": null,
   "id": "8e940149-3c5d-4f97-922f-1f4fd896bfbb",
   "metadata": {},
   "outputs": [],
   "source": []
  },
  {
   "cell_type": "markdown",
   "id": "937fc9f9-c5cb-476b-8e18-ec46c1ee1a87",
   "metadata": {},
   "source": [
    "## Model 7 - Random Forest"
   ]
  },
  {
   "cell_type": "code",
   "execution_count": null,
   "id": "03d6ef94-779d-4a08-94e4-f5d26d578d92",
   "metadata": {},
   "outputs": [],
   "source": []
  },
  {
   "cell_type": "markdown",
   "id": "27e6e5a2-bb9a-4119-b74d-4656fec87c20",
   "metadata": {},
   "source": [
    "## Model 8 - Gaussian Mixture Model"
   ]
  },
  {
   "cell_type": "code",
   "execution_count": null,
   "id": "bc7b0de1-22e0-43c0-91f9-b7917de6339b",
   "metadata": {},
   "outputs": [],
   "source": []
  },
  {
   "cell_type": "markdown",
   "id": "6a484e39-da6d-4bac-9980-32eb4b6758d3",
   "metadata": {},
   "source": [
    "## Second Last Model - XGBoost (eXtreme Gradient Boosting)"
   ]
  },
  {
   "cell_type": "code",
   "execution_count": null,
   "id": "15d3cc60-52e1-410a-8e2b-ace605b8b75e",
   "metadata": {},
   "outputs": [],
   "source": []
  },
  {
   "cell_type": "markdown",
   "id": "0dcdf107-b55a-431c-8349-570048e6f181",
   "metadata": {},
   "source": [
    "## Last Model - LightGBM"
   ]
  },
  {
   "cell_type": "code",
   "execution_count": null,
   "id": "25fa6497-73d6-44fd-a136-d85942172e7f",
   "metadata": {},
   "outputs": [],
   "source": []
  }
 ],
 "metadata": {
  "kernelspec": {
   "display_name": "quant_general",
   "language": "python",
   "name": "quant_general"
  },
  "language_info": {
   "codemirror_mode": {
    "name": "ipython",
    "version": 3
   },
   "file_extension": ".py",
   "mimetype": "text/x-python",
   "name": "python",
   "nbconvert_exporter": "python",
   "pygments_lexer": "ipython3",
   "version": "3.7.11"
  }
 },
 "nbformat": 4,
 "nbformat_minor": 5
}
